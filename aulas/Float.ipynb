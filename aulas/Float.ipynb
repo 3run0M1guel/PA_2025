{
  "nbformat": 4,
  "nbformat_minor": 0,
  "metadata": {
    "colab": {
      "provenance": [],
      "authorship_tag": "ABX9TyP6EBSO+RbNyuc2lOFQI6SJ",
      "include_colab_link": true
    },
    "kernelspec": {
      "name": "python3",
      "display_name": "Python 3"
    },
    "language_info": {
      "name": "python"
    }
  },
  "cells": [
    {
      "cell_type": "markdown",
      "metadata": {
        "id": "view-in-github",
        "colab_type": "text"
      },
      "source": [
        "<a href=\"https://colab.research.google.com/github/3run0M1guel/PA_2025/blob/main/Float.ipynb\" target=\"_parent\"><img src=\"https://colab.research.google.com/assets/colab-badge.svg\" alt=\"Open In Colab\"/></a>"
      ]
    },
    {
      "cell_type": "code",
      "execution_count": 17,
      "metadata": {
        "colab": {
          "base_uri": "https://localhost:8080/"
        },
        "id": "BlT-5-I8fWWZ",
        "outputId": "78af8cc3-f690-4142-ce2e-78f679474833"
      },
      "outputs": [
        {
          "name": "stdout",
          "output_type": "stream",
          "text": [
            "digite a nota da prova: 8\n",
            "digite a nota da prova: 9\n"
          ]
        }
      ],
      "source": [
        "P1 = float (input('digite a nota da prova: '))\n",
        "P2 = float (input('digite a nota da prova: '))"
      ]
    },
    {
      "cell_type": "markdown",
      "source": [
        "### ***xd***"
      ],
      "metadata": {
        "id": "e0yuezO8fklS"
      }
    },
    {
      "cell_type": "code",
      "source": [
        "média = (P1+P2)/2\n"
      ],
      "metadata": {
        "id": "weG7DfbvfjJ_"
      },
      "execution_count": 18,
      "outputs": []
    },
    {
      "cell_type": "markdown",
      "source": [
        "### ***xd 2.0***"
      ],
      "metadata": {
        "id": "vnduijaofx4l"
      }
    },
    {
      "cell_type": "code",
      "source": [
        "print (\"A nota média dos alunos é\" , média)"
      ],
      "metadata": {
        "colab": {
          "base_uri": "https://localhost:8080/"
        },
        "id": "Q_EyDVoyf1Ce",
        "outputId": "69100979-60ae-4144-9abe-2dde9b193110"
      },
      "execution_count": 19,
      "outputs": [
        {
          "output_type": "stream",
          "name": "stdout",
          "text": [
            "A nota média dos alunos é 8.5\n"
          ]
        }
      ]
    },
    {
      "cell_type": "markdown",
      "source": [
        "### **exercício 1**"
      ],
      "metadata": {
        "id": "9Amtae8woAgL"
      }
    },
    {
      "cell_type": "code",
      "source": [
        "#entrada\n",
        "\n",
        "Valor = float (input())\n",
        "QTED = float (input())"
      ],
      "metadata": {
        "colab": {
          "base_uri": "https://localhost:8080/"
        },
        "id": "YDtAN7ohoE-R",
        "outputId": "97531acf-d64a-46f8-d832-e7cb0065823d"
      },
      "execution_count": 35,
      "outputs": [
        {
          "name": "stdout",
          "output_type": "stream",
          "text": [
            "15\n",
            "13\n"
          ]
        }
      ]
    },
    {
      "cell_type": "code",
      "source": [
        "#processamento\n",
        "\n",
        "(VT) = (QTED*Valor)"
      ],
      "metadata": {
        "id": "kwgzcFX3os9n"
      },
      "execution_count": 36,
      "outputs": []
    },
    {
      "cell_type": "code",
      "source": [
        "#saída\n",
        "print (\"a quantidade de estoque é\" , VT)"
      ],
      "metadata": {
        "colab": {
          "base_uri": "https://localhost:8080/"
        },
        "id": "AefDlHYkpQNi",
        "outputId": "1c5055f1-bb25-48d0-cc03-9ffed5c2732e"
      },
      "execution_count": 37,
      "outputs": [
        {
          "output_type": "stream",
          "name": "stdout",
          "text": [
            "a quantidade de estoque é 195.0\n"
          ]
        }
      ]
    },
    {
      "cell_type": "markdown",
      "source": [
        "### *Sla*"
      ],
      "metadata": {
        "id": "1kuGjMZyt_IA"
      }
    },
    {
      "cell_type": "code",
      "source": [
        "#Entrada\n",
        "C = float (input())\n"
      ],
      "metadata": {
        "colab": {
          "base_uri": "https://localhost:8080/"
        },
        "id": "_fT1Wr0XtpOX",
        "outputId": "651aace4-f9b9-4b33-99a4-a9af4bd4cd1b"
      },
      "execution_count": 44,
      "outputs": [
        {
          "name": "stdout",
          "output_type": "stream",
          "text": [
            "27\n"
          ]
        }
      ]
    },
    {
      "cell_type": "code",
      "source": [
        "#Processamento\n",
        "F = (C*9/5) + 32"
      ],
      "metadata": {
        "id": "w96-soUguCIh"
      },
      "execution_count": 45,
      "outputs": []
    },
    {
      "cell_type": "code",
      "source": [
        "#saída\n",
        "print (C , \"é igual a\" , F)"
      ],
      "metadata": {
        "colab": {
          "base_uri": "https://localhost:8080/"
        },
        "id": "K6ZSAqViuYJx",
        "outputId": "7ac211d1-d947-434f-d393-57dd2da32fe3"
      },
      "execution_count": 46,
      "outputs": [
        {
          "output_type": "stream",
          "name": "stdout",
          "text": [
            "27.0 é igual a 80.6\n"
          ]
        }
      ]
    },
    {
      "cell_type": "markdown",
      "source": [
        "### ***xd***"
      ],
      "metadata": {
        "id": "YScymWJ8zgGF"
      }
    },
    {
      "cell_type": "code",
      "source": [
        "#Entrada\n",
        "M = float (input())"
      ],
      "metadata": {
        "colab": {
          "base_uri": "https://localhost:8080/"
        },
        "id": "S7SP2_1KzjB0",
        "outputId": "3506089f-b213-4b76-b816-34dbfbca9198"
      },
      "execution_count": 92,
      "outputs": [
        {
          "name": "stdout",
          "output_type": "stream",
          "text": [
            "1\n"
          ]
        }
      ]
    },
    {
      "cell_type": "code",
      "source": [
        "#Processamento\n",
        "Km = (M*1.60934)"
      ],
      "metadata": {
        "id": "Pjjreee_zr6J"
      },
      "execution_count": 93,
      "outputs": []
    },
    {
      "cell_type": "code",
      "source": [
        "#saída\n",
        "print (\"Milha é igual a\", Km)"
      ],
      "metadata": {
        "colab": {
          "base_uri": "https://localhost:8080/"
        },
        "id": "1NC16mbx0hrl",
        "outputId": "3e8fbe81-8559-4cb5-82d9-33ab782a9f11"
      },
      "execution_count": 94,
      "outputs": [
        {
          "output_type": "stream",
          "name": "stdout",
          "text": [
            "Milha é igual a 1.60934\n"
          ]
        }
      ]
    }
  ]
}