{
  "nbformat": 4,
  "nbformat_minor": 0,
  "metadata": {
    "colab": {
      "provenance": [],
      "authorship_tag": "ABX9TyM4IbnUlsQqd5G8WrqHkCP5",
      "include_colab_link": true
    },
    "kernelspec": {
      "name": "python3",
      "display_name": "Python 3"
    },
    "language_info": {
      "name": "python"
    }
  },
  "cells": [
    {
      "cell_type": "markdown",
      "metadata": {
        "id": "view-in-github",
        "colab_type": "text"
      },
      "source": [
        "<a href=\"https://colab.research.google.com/github/3run0M1guel/PA_2025/blob/main/AtividadeDePA.ipynb\" target=\"_parent\"><img src=\"https://colab.research.google.com/assets/colab-badge.svg\" alt=\"Open In Colab\"/></a>"
      ]
    },
    {
      "cell_type": "markdown",
      "source": [
        "# Questão 1"
      ],
      "metadata": {
        "id": "Q_4W8tvNYKkV"
      }
    },
    {
      "cell_type": "code",
      "execution_count": null,
      "metadata": {
        "id": "qG7dTW9sXO5f"
      },
      "outputs": [],
      "source": [
        "num = int(input('digite um número'))\n",
        "\n",
        "if num % 2 == 0:\n",
        "    print(\"digite um número par\")\n",
        "else:\n",
        "      print(\"digite um número impar\")"
      ]
    },
    {
      "cell_type": "markdown",
      "source": [
        "# Questão 2"
      ],
      "metadata": {
        "id": "OzmMV39jFofS"
      }
    },
    {
      "cell_type": "code",
      "source": [
        "nota1 = float(input(\"digite a primeira nota \"))\n",
        "nota2 = float(input(\"digite a segunda nota \"))\n",
        "nota3 = float (input(\"digite a terceira nota \"))\n",
        "\n",
        "nota = (nota1 + nota2 + nota3) / 3\n",
        "if nota >= 5:\n",
        "    print(\"aprovado\")\n",
        "else:\n",
        "    print(\"reprovado\")"
      ],
      "metadata": {
        "id": "HONKoZnYF3St",
        "colab": {
          "base_uri": "https://localhost:8080/"
        },
        "outputId": "c3b061f7-8fa0-4717-f679-f5009bebecc7"
      },
      "execution_count": null,
      "outputs": [
        {
          "output_type": "stream",
          "name": "stdout",
          "text": [
            "digite a primeira nota 10\n",
            "digite a segunda nota 7\n",
            "digite a terceira nota 8\n",
            "aprovado\n"
          ]
        }
      ]
    },
    {
      "cell_type": "markdown",
      "source": [
        "# Questão 3"
      ],
      "metadata": {
        "id": "PJEJF3UHGSpu"
      }
    },
    {
      "cell_type": "code",
      "source": [
        "idade = float(input(\"digite a sua idade \"))\n",
        "if idade>= 18:\n",
        "    print(\"maior de idade\")\n",
        "else:\n",
        "  print(\"menor de idade\")\n"
      ],
      "metadata": {
        "colab": {
          "base_uri": "https://localhost:8080/"
        },
        "id": "g43Dtz4CGV4N",
        "outputId": "5f2c8dbb-b19d-42fc-e602-7a800dfa1ea8"
      },
      "execution_count": null,
      "outputs": [
        {
          "output_type": "stream",
          "name": "stdout",
          "text": [
            "digite a sua idade 18\n",
            "maior de idade\n"
          ]
        }
      ]
    },
    {
      "cell_type": "markdown",
      "source": [
        "# Questão 4"
      ],
      "metadata": {
        "id": "tWEpIBpEHHHE"
      }
    },
    {
      "cell_type": "code",
      "source": [
        "num = float(input(\"digite um múltiplo de 5 \"))\n",
        "if num % 5 == 0:\n",
        "    print(\"é múltiplo de 5\")\n",
        "else:\n",
        "    print(\"não é múltiplo de 5\")"
      ],
      "metadata": {
        "colab": {
          "base_uri": "https://localhost:8080/"
        },
        "id": "mVrvBUcPHJPk",
        "outputId": "9f25ddfb-2b10-473c-cdbc-656d3212375d"
      },
      "execution_count": null,
      "outputs": [
        {
          "output_type": "stream",
          "name": "stdout",
          "text": [
            "digite um múltiplo de 5 9\n",
            "não é múltiplo de 5\n"
          ]
        }
      ]
    },
    {
      "cell_type": "markdown",
      "source": [
        "# Questão 5"
      ],
      "metadata": {
        "id": "9Mr04ddcHtY_"
      }
    },
    {
      "cell_type": "code",
      "source": [
        "peso = float(input(\"digite seu peso \"))\n",
        "altura = float(input(\"digite sua altura \"))\n",
        "imc = peso / altura **2\n",
        "if (imc < 18.5 or imc < 25):\n",
        "    print(\"abaixo do peso\")\n",
        "\n",
        "elif (imc >= 18.5 and imc <= 25):\n",
        "     print(\"peso normal\")\n",
        "\n",
        "else:\n",
        "    print(\"acima do peso\")"
      ],
      "metadata": {
        "colab": {
          "base_uri": "https://localhost:8080/",
          "height": 373
        },
        "id": "O9ZTnsCDHvhX",
        "outputId": "a694a85c-7229-4c12-9a1e-f203d4219103"
      },
      "execution_count": 3,
      "outputs": [
        {
          "output_type": "error",
          "ename": "KeyboardInterrupt",
          "evalue": "Interrupted by user",
          "traceback": [
            "\u001b[0;31m---------------------------------------------------------------------------\u001b[0m",
            "\u001b[0;31mKeyboardInterrupt\u001b[0m                         Traceback (most recent call last)",
            "\u001b[0;32m<ipython-input-3-4926a80914c3>\u001b[0m in \u001b[0;36m<cell line: 0>\u001b[0;34m()\u001b[0m\n\u001b[0;32m----> 1\u001b[0;31m \u001b[0mpeso\u001b[0m \u001b[0;34m=\u001b[0m \u001b[0mfloat\u001b[0m\u001b[0;34m(\u001b[0m\u001b[0minput\u001b[0m\u001b[0;34m(\u001b[0m\u001b[0;34m\"digite seu peso \"\u001b[0m\u001b[0;34m)\u001b[0m\u001b[0;34m)\u001b[0m\u001b[0;34m\u001b[0m\u001b[0;34m\u001b[0m\u001b[0m\n\u001b[0m\u001b[1;32m      2\u001b[0m \u001b[0maltura\u001b[0m \u001b[0;34m=\u001b[0m \u001b[0mfloat\u001b[0m\u001b[0;34m(\u001b[0m\u001b[0minput\u001b[0m\u001b[0;34m(\u001b[0m\u001b[0;34m\"digite sua altura \"\u001b[0m\u001b[0;34m)\u001b[0m\u001b[0;34m)\u001b[0m\u001b[0;34m\u001b[0m\u001b[0;34m\u001b[0m\u001b[0m\n\u001b[1;32m      3\u001b[0m \u001b[0mimc\u001b[0m \u001b[0;34m=\u001b[0m \u001b[0mpeso\u001b[0m \u001b[0;34m/\u001b[0m \u001b[0maltura\u001b[0m \u001b[0;34m**\u001b[0m\u001b[0;36m2\u001b[0m\u001b[0;34m\u001b[0m\u001b[0;34m\u001b[0m\u001b[0m\n\u001b[1;32m      4\u001b[0m \u001b[0;32mif\u001b[0m \u001b[0;34m(\u001b[0m\u001b[0mimc\u001b[0m \u001b[0;34m<\u001b[0m \u001b[0;36m18.5\u001b[0m \u001b[0;32mor\u001b[0m \u001b[0mimc\u001b[0m \u001b[0;34m<\u001b[0m \u001b[0;36m25\u001b[0m\u001b[0;34m)\u001b[0m\u001b[0;34m:\u001b[0m\u001b[0;34m\u001b[0m\u001b[0;34m\u001b[0m\u001b[0m\n\u001b[1;32m      5\u001b[0m     \u001b[0mprint\u001b[0m\u001b[0;34m(\u001b[0m\u001b[0;34m\"abaixo do peso\"\u001b[0m\u001b[0;34m)\u001b[0m\u001b[0;34m\u001b[0m\u001b[0;34m\u001b[0m\u001b[0m\n",
            "\u001b[0;32m/usr/local/lib/python3.11/dist-packages/ipykernel/kernelbase.py\u001b[0m in \u001b[0;36mraw_input\u001b[0;34m(self, prompt)\u001b[0m\n\u001b[1;32m   1175\u001b[0m                 \u001b[0;34m\"raw_input was called, but this frontend does not support input requests.\"\u001b[0m\u001b[0;34m\u001b[0m\u001b[0;34m\u001b[0m\u001b[0m\n\u001b[1;32m   1176\u001b[0m             )\n\u001b[0;32m-> 1177\u001b[0;31m         return self._input_request(\n\u001b[0m\u001b[1;32m   1178\u001b[0m             \u001b[0mstr\u001b[0m\u001b[0;34m(\u001b[0m\u001b[0mprompt\u001b[0m\u001b[0;34m)\u001b[0m\u001b[0;34m,\u001b[0m\u001b[0;34m\u001b[0m\u001b[0;34m\u001b[0m\u001b[0m\n\u001b[1;32m   1179\u001b[0m             \u001b[0mself\u001b[0m\u001b[0;34m.\u001b[0m\u001b[0m_parent_ident\u001b[0m\u001b[0;34m[\u001b[0m\u001b[0;34m\"shell\"\u001b[0m\u001b[0;34m]\u001b[0m\u001b[0;34m,\u001b[0m\u001b[0;34m\u001b[0m\u001b[0;34m\u001b[0m\u001b[0m\n",
            "\u001b[0;32m/usr/local/lib/python3.11/dist-packages/ipykernel/kernelbase.py\u001b[0m in \u001b[0;36m_input_request\u001b[0;34m(self, prompt, ident, parent, password)\u001b[0m\n\u001b[1;32m   1217\u001b[0m             \u001b[0;32mexcept\u001b[0m \u001b[0mKeyboardInterrupt\u001b[0m\u001b[0;34m:\u001b[0m\u001b[0;34m\u001b[0m\u001b[0;34m\u001b[0m\u001b[0m\n\u001b[1;32m   1218\u001b[0m                 \u001b[0;31m# re-raise KeyboardInterrupt, to truncate traceback\u001b[0m\u001b[0;34m\u001b[0m\u001b[0;34m\u001b[0m\u001b[0m\n\u001b[0;32m-> 1219\u001b[0;31m                 \u001b[0;32mraise\u001b[0m \u001b[0mKeyboardInterrupt\u001b[0m\u001b[0;34m(\u001b[0m\u001b[0;34m\"Interrupted by user\"\u001b[0m\u001b[0;34m)\u001b[0m \u001b[0;32mfrom\u001b[0m \u001b[0;32mNone\u001b[0m\u001b[0;34m\u001b[0m\u001b[0;34m\u001b[0m\u001b[0m\n\u001b[0m\u001b[1;32m   1220\u001b[0m             \u001b[0;32mexcept\u001b[0m \u001b[0mException\u001b[0m\u001b[0;34m:\u001b[0m\u001b[0;34m\u001b[0m\u001b[0;34m\u001b[0m\u001b[0m\n\u001b[1;32m   1221\u001b[0m                 \u001b[0mself\u001b[0m\u001b[0;34m.\u001b[0m\u001b[0mlog\u001b[0m\u001b[0;34m.\u001b[0m\u001b[0mwarning\u001b[0m\u001b[0;34m(\u001b[0m\u001b[0;34m\"Invalid Message:\"\u001b[0m\u001b[0;34m,\u001b[0m \u001b[0mexc_info\u001b[0m\u001b[0;34m=\u001b[0m\u001b[0;32mTrue\u001b[0m\u001b[0;34m)\u001b[0m\u001b[0;34m\u001b[0m\u001b[0;34m\u001b[0m\u001b[0m\n",
            "\u001b[0;31mKeyboardInterrupt\u001b[0m: Interrupted by user"
          ]
        }
      ]
    },
    {
      "cell_type": "markdown",
      "source": [
        "# Questão 6"
      ],
      "metadata": {
        "id": "E2HlxRqaM4tS"
      }
    },
    {
      "cell_type": "code",
      "source": [
        "num = float(input(\"digite um número \"))\n",
        "if num > 0:\n",
        "    print(\"positivo\")\n",
        "else:\n",
        "    print(\"negativo\")"
      ],
      "metadata": {
        "colab": {
          "base_uri": "https://localhost:8080/"
        },
        "id": "uo6KpKjQMlnP",
        "outputId": "1eee2730-c17d-410f-b88d-0ee4f5250bbb"
      },
      "execution_count": null,
      "outputs": [
        {
          "output_type": "stream",
          "name": "stdout",
          "text": [
            "digite um número -1\n",
            "negativo\n"
          ]
        }
      ]
    },
    {
      "cell_type": "markdown",
      "source": [
        "# Questão 7"
      ],
      "metadata": {
        "id": "lnzny6GONdCq"
      }
    },
    {
      "cell_type": "code",
      "source": [
        "num = float(input(\"digite um número\"))\n",
        "num2 = float(input(\"digite um número\"))\n",
        "r=num+num2\n",
        "print(r)\n",
        "r=num-num2\n",
        "print(r)\n",
        "r=num*num2\n",
        "print(r)\n",
        "r=num/num2\n",
        "print(r)"
      ],
      "metadata": {
        "colab": {
          "base_uri": "https://localhost:8080/"
        },
        "id": "qITJqhOpNe0J",
        "outputId": "76477882-aa8d-49cd-a2b9-5b565a5681cc"
      },
      "execution_count": null,
      "outputs": [
        {
          "output_type": "stream",
          "name": "stdout",
          "text": [
            "digite um número2\n",
            "digite um número4\n",
            "6.0\n",
            "-2.0\n",
            "8.0\n",
            "0.5\n"
          ]
        }
      ]
    },
    {
      "cell_type": "markdown",
      "source": [
        "# Questão 8"
      ],
      "metadata": {
        "id": "8pmZHShMPNSy"
      }
    },
    {
      "cell_type": "code",
      "source": [
        "print('esse nao funfa nao')"
      ],
      "metadata": {
        "colab": {
          "base_uri": "https://localhost:8080/"
        },
        "id": "VIPea1_UPQUU",
        "outputId": "2d20b49d-52ac-47a1-a586-c7c592fa7b29"
      },
      "execution_count": null,
      "outputs": [
        {
          "output_type": "stream",
          "name": "stdout",
          "text": [
            "esse nao funfa nao\n"
          ]
        }
      ]
    },
    {
      "cell_type": "markdown",
      "source": [
        "# Questão 9"
      ],
      "metadata": {
        "id": "ZkmE0rhxVTdv"
      }
    },
    {
      "cell_type": "code",
      "source": [
        "print(\"num funfa tbm nao\")"
      ],
      "metadata": {
        "id": "Sn1pFO6IVSIp"
      },
      "execution_count": null,
      "outputs": []
    },
    {
      "cell_type": "markdown",
      "source": [
        "# Questão 10"
      ],
      "metadata": {
        "id": "C6TFLWcFWbeW"
      }
    },
    {
      "cell_type": "code",
      "source": [
        "num = float(input(\"digite um número para exibir saua tabuáda\"))\n",
        "\n",
        "num1 = num*1\n",
        "num2 = num*2\n",
        "num3 = num*3\n",
        "num4 = num*4\n",
        "num5 = num*5\n",
        "num6 = num*6\n",
        "num7 = num*7\n",
        "num8 = num*8\n",
        "num9 = num*9\n",
        "num10 = num*10\n",
        "\n",
        "print(num1)\n",
        "print(num2)\n",
        "print(num3)\n",
        "print(num4)\n",
        "print(num5)\n",
        "print(num6)\n",
        "print(num7)\n",
        "print(num8)\n",
        "print(num9)\n",
        "print(num10)\n"
      ],
      "metadata": {
        "colab": {
          "base_uri": "https://localhost:8080/"
        },
        "id": "XgFsUnoGWd1u",
        "outputId": "1aa201de-f031-40c7-f976-63c0e82fbb0a"
      },
      "execution_count": null,
      "outputs": [
        {
          "output_type": "stream",
          "name": "stdout",
          "text": [
            "digite um número para exibir saua tabuáda2\n",
            "2.0\n",
            "4.0\n",
            "6.0\n",
            "8.0\n",
            "10.0\n",
            "12.0\n",
            "14.0\n",
            "16.0\n",
            "18.0\n",
            "20.0\n"
          ]
        }
      ]
    },
    {
      "cell_type": "markdown",
      "source": [
        "# Questão 11"
      ],
      "metadata": {
        "id": "Dk-BZ8fuYEZu"
      }
    },
    {
      "cell_type": "code",
      "source": [
        "num = (100*(100+1)) / 2\n",
        "print(num)"
      ],
      "metadata": {
        "id": "GEkH2TZOYKYu",
        "colab": {
          "base_uri": "https://localhost:8080/"
        },
        "outputId": "562e2be6-eb12-4eac-d56d-f94e8ac57201"
      },
      "execution_count": 2,
      "outputs": [
        {
          "output_type": "stream",
          "name": "stdout",
          "text": [
            "5050.0\n"
          ]
        }
      ]
    },
    {
      "cell_type": "markdown",
      "source": [
        "# Questão 12"
      ],
      "metadata": {
        "id": "Ba8WfwjhbTOB"
      }
    },
    {
      "cell_type": "code",
      "source": [
        "num = float(input(\"digite para eu saber se é um número primo \"))\n",
        "\n",
        "if num <= 1:\n",
        "    print(\"Não é primo\")\n",
        "else:\n",
        "    if num == 2 or num == 3 or num == 5 or num == 7:\n",
        "        print(\"É primo\")\n",
        "    else:\n",
        "        if num % 2 == 0 or num % 3 == 0 or num % 5 == 0 or num % 7 == 0:\n",
        "            print(\"Não é primo\")\n",
        "        else:\n",
        "            print(\"É primo\")"
      ],
      "metadata": {
        "colab": {
          "base_uri": "https://localhost:8080/"
        },
        "id": "eqZWgv3nbXLI",
        "outputId": "91fd0223-bffc-4307-f11f-c8f8a1e75e05"
      },
      "execution_count": 8,
      "outputs": [
        {
          "output_type": "stream",
          "name": "stdout",
          "text": [
            "digite para eu saber se é um número primo 2\n",
            "É primo\n"
          ]
        }
      ]
    },
    {
      "cell_type": "markdown",
      "source": [
        "# Questão 13"
      ],
      "metadata": {
        "id": "cKexur05cgj1"
      }
    },
    {
      "cell_type": "code",
      "source": [
        "num = float(input(\"digite o número que está na lista por favor \"))\n",
        "if num == 1 or num == 2 or num == 3 or num == 4 or num == 5:\n",
        "     print(\"está na lista\")\n",
        "\n",
        "else:\n",
        "    print(\"não está na lista\")"
      ],
      "metadata": {
        "colab": {
          "base_uri": "https://localhost:8080/"
        },
        "id": "NBCdNm_UciPt",
        "outputId": "3ff83531-267f-4d0d-8eb9-5bb0ac6c9c6c"
      },
      "execution_count": 12,
      "outputs": [
        {
          "output_type": "stream",
          "name": "stdout",
          "text": [
            "digite o número que está na lista por favor 2\n",
            "está na lista\n"
          ]
        }
      ]
    },
    {
      "cell_type": "markdown",
      "source": [
        "# Questão 14"
      ],
      "metadata": {
        "id": "j7G1tYcDdIOb"
      }
    },
    {
      "cell_type": "code",
      "source": [
        "import random\n",
        "\n",
        "numero_secreto = random.randint(1, 10)\n",
        "palpite = int(input(\"Adivinhe um número de 1 a 10: \"))\n",
        "\n",
        "if palpite == numero_secreto:\n",
        "    print(\"Parabéns! Você acertou!\")\n",
        "else:\n",
        "    print(\"Errado! O número era\", numero_secreto)\n",
        "\n"
      ],
      "metadata": {
        "colab": {
          "base_uri": "https://localhost:8080/"
        },
        "id": "LwQH3wuDdKI7",
        "outputId": "cc3c1810-6616-4323-b3da-ebfb6075690b"
      },
      "execution_count": 18,
      "outputs": [
        {
          "output_type": "stream",
          "name": "stdout",
          "text": [
            "Adivinhe um número de 1 a 10: 6\n",
            "Parabéns! Você acertou!\n"
          ]
        }
      ]
    }
  ]
}