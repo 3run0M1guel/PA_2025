{
  "nbformat": 4,
  "nbformat_minor": 0,
  "metadata": {
    "colab": {
      "provenance": [],
      "authorship_tag": "ABX9TyPB/lSlAh8zbwQfHtsKAUzY",
      "include_colab_link": true
    },
    "kernelspec": {
      "name": "python3",
      "display_name": "Python 3"
    },
    "language_info": {
      "name": "python"
    }
  },
  "cells": [
    {
      "cell_type": "markdown",
      "metadata": {
        "id": "view-in-github",
        "colab_type": "text"
      },
      "source": [
        "<a href=\"https://colab.research.google.com/github/3run0M1guel/PA_2025/blob/main/Revis%C3%A3o.ipynb\" target=\"_parent\"><img src=\"https://colab.research.google.com/assets/colab-badge.svg\" alt=\"Open In Colab\"/></a>"
      ]
    },
    {
      "cell_type": "markdown",
      "source": [
        "# Questão 1"
      ],
      "metadata": {
        "id": "1VKN08VuQXlV"
      }
    },
    {
      "cell_type": "code",
      "execution_count": 2,
      "metadata": {
        "colab": {
          "base_uri": "https://localhost:8080/"
        },
        "id": "5mm4C5L9QSIN",
        "outputId": "b740a56c-df4a-491c-cc8f-87c8c560615f"
      },
      "outputs": [
        {
          "output_type": "stream",
          "name": "stdout",
          "text": [
            "digite se o número é negativo ou positivo: 1\n",
            "é positivo\n"
          ]
        }
      ],
      "source": [
        "num = float(input(\"digite se o número é negativo ou positivo: \"))\n",
        "if num >= 0:\n",
        "   print(\"é positivo\")\n",
        "else:\n",
        "    print(\"é negativo\")"
      ]
    },
    {
      "cell_type": "markdown",
      "source": [
        "# Questão 2"
      ],
      "metadata": {
        "id": "rmEYdiFXVkw7"
      }
    },
    {
      "cell_type": "code",
      "source": [
        "num = int(input('digite um número'))\n",
        "\n",
        "if num % 2 == 0:\n",
        "    print(\"digite um número par\")\n",
        "else:\n",
        "      print(\"digite um número impar\")"
      ],
      "metadata": {
        "id": "GqCJJtYAVnXz"
      },
      "execution_count": null,
      "outputs": []
    },
    {
      "cell_type": "markdown",
      "source": [
        "# Questão 3"
      ],
      "metadata": {
        "id": "0kuART3jVs0R"
      }
    },
    {
      "cell_type": "code",
      "source": [
        "idade = float(input(\"digite a sua idade \"))\n",
        "if idade>= 18:\n",
        "    print(\"maior de idade\")\n",
        "else:\n",
        "  print(\"menor de idade\")"
      ],
      "metadata": {
        "id": "bZOvirPKVw-J"
      },
      "execution_count": null,
      "outputs": []
    },
    {
      "cell_type": "markdown",
      "source": [
        "# Questão 4"
      ],
      "metadata": {
        "id": "VNgkYFheVxyN"
      }
    },
    {
      "cell_type": "code",
      "source": [
        "senha = float(input(\"digite a sua senha \"))\n",
        "if senha == 2002:\n",
        "    print(\"senha correta\")\n",
        "else:\n",
        "    print(\"senha incorreta\")"
      ],
      "metadata": {
        "colab": {
          "base_uri": "https://localhost:8080/"
        },
        "id": "nwzAPXH2Vzqy",
        "outputId": "9bf8309a-0f9c-4300-9447-a34b9545ead6"
      },
      "execution_count": 3,
      "outputs": [
        {
          "output_type": "stream",
          "name": "stdout",
          "text": [
            "digite a sua senha 2002\n",
            "senha correta\n"
          ]
        }
      ]
    },
    {
      "cell_type": "markdown",
      "source": [
        "# Questão 5"
      ],
      "metadata": {
        "id": "lkFZOl5BWdFQ"
      }
    },
    {
      "cell_type": "code",
      "source": [
        "nota1 = float(input(\"digite a primeira nota \"))\n",
        "nota2 = float(input(\"digite a segunda nota \"))\n",
        "nota3 = float (input(\"digite a terceira nota \"))\n",
        "\n",
        "nota = (nota1 + nota2 + nota3) / 3\n",
        "if nota >= 5:\n",
        "    print(\"aprovado\")\n",
        "else:\n",
        "    print(\"reprovado\")"
      ],
      "metadata": {
        "id": "m-jYDRDEWcvI"
      },
      "execution_count": null,
      "outputs": []
    },
    {
      "cell_type": "markdown",
      "source": [
        "Questão 6"
      ],
      "metadata": {
        "id": "t2FVrdQzWn6-"
      }
    },
    {
      "cell_type": "code",
      "source": [
        "num = float(input(\"digite um múltiplo de 5 \"))\n",
        "if num % 3 == 0:\n",
        "    print(\"é múltiplo de 3\")\n",
        "else:\n",
        "    print(\"não é múltiplo de 3\")\n",
        "\n",
        "if num % 5 == 0:\n",
        "    print(\"é múltiplo de 5\")\n",
        "else:\n",
        "    print(\"não é múltiplo de 5\")"
      ],
      "metadata": {
        "colab": {
          "base_uri": "https://localhost:8080/"
        },
        "id": "PvJd-mLfWpKd",
        "outputId": "bd4901b8-fdc9-492d-d572-3bb3a2c520c8"
      },
      "execution_count": 9,
      "outputs": [
        {
          "output_type": "stream",
          "name": "stdout",
          "text": [
            "digite um múltiplo de 5 3\n",
            "é múltiplo de 3\n",
            "não é múltiplo de 5\n"
          ]
        }
      ]
    },
    {
      "cell_type": "markdown",
      "source": [
        "# Questão 7"
      ],
      "metadata": {
        "id": "Uh9mOdI3X_0f"
      }
    },
    {
      "cell_type": "code",
      "source": [
        "intervalo = float(input(\"digite o número que está no intervalo \"))\n",
        "if intervalo >= 10 and intervalo <= 20:\n",
        "    print(\"está no intervalo\")\n",
        "else:\n",
        "    print(\"não está no intervalo\")"
      ],
      "metadata": {
        "colab": {
          "base_uri": "https://localhost:8080/"
        },
        "id": "-morfS1MYCZU",
        "outputId": "e719148b-e324-4fbe-c209-d098a5757502"
      },
      "execution_count": 13,
      "outputs": [
        {
          "output_type": "stream",
          "name": "stdout",
          "text": [
            "digite o número que está no intervalo 11\n",
            "está no intervalo\n"
          ]
        }
      ]
    },
    {
      "cell_type": "markdown",
      "source": [
        "# Questão 8"
      ],
      "metadata": {
        "id": "5V5ejHI_Yu7k"
      }
    },
    {
      "cell_type": "code",
      "source": [
        "l1 = float (input('Digite o valor do primeiro lado: '))\n",
        "l2 = float (input('Digite o valor do segundo lado: '))\n",
        "l3 = float (input('Digite o valor do terceiro lado: '))\n",
        "\n",
        "triangulo = (l1+l2>l3) and (l1+l3>l2) and (l2+l3>l1)\n",
        "equilatero = triangulo and (l1==l3==l2)\n",
        "isosceles = triangulo and (l1==l2) or (l2==l3) or (l1==l3)\n",
        "escaleno = triangulo and not equilatero and not isosceles\n",
        "\n",
        "print(f\"É um triângulo? {triangulo}\")\n",
        "print(f\"É um equilatero? {equilatero}\")\n",
        "print(f\"É um isosceles? {isosceles}\")\n",
        "print(f\"É um escaleno? {escaleno}\")"
      ],
      "metadata": {
        "id": "Llv0xA9dYwKz"
      },
      "execution_count": null,
      "outputs": []
    }
  ]
}