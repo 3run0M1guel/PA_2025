{
  "nbformat": 4,
  "nbformat_minor": 0,
  "metadata": {
    "colab": {
      "provenance": [],
      "authorship_tag": "ABX9TyPeWsZIuODVaSRLU+u5bBQs",
      "include_colab_link": true
    },
    "kernelspec": {
      "name": "python3",
      "display_name": "Python 3"
    },
    "language_info": {
      "name": "python"
    }
  },
  "cells": [
    {
      "cell_type": "markdown",
      "metadata": {
        "id": "view-in-github",
        "colab_type": "text"
      },
      "source": [
        "<a href=\"https://colab.research.google.com/github/3run0M1guel/PA_2025/blob/main/Aula_de_Operadores.ipynb\" target=\"_parent\"><img src=\"https://colab.research.google.com/assets/colab-badge.svg\" alt=\"Open In Colab\"/></a>"
      ]
    },
    {
      "cell_type": "markdown",
      "source": [
        "## Soma"
      ],
      "metadata": {
        "id": "tYZzH5DGhM0c"
      }
    },
    {
      "cell_type": "code",
      "execution_count": 3,
      "metadata": {
        "colab": {
          "base_uri": "https://localhost:8080/"
        },
        "id": "QkUVoomgduHw",
        "outputId": "391ce4e9-6c80-4807-89ad-940199aec794"
      },
      "outputs": [
        {
          "output_type": "execute_result",
          "data": {
            "text/plain": [
              "4"
            ]
          },
          "metadata": {},
          "execution_count": 3
        }
      ],
      "source": [
        "2 + 2"
      ]
    },
    {
      "cell_type": "markdown",
      "source": [
        "## Subtração"
      ],
      "metadata": {
        "id": "AJ3N0KyOhSog"
      }
    },
    {
      "cell_type": "code",
      "source": [
        "9 - 4"
      ],
      "metadata": {
        "colab": {
          "base_uri": "https://localhost:8080/"
        },
        "id": "W60vUXy9hUOI",
        "outputId": "baf3cc14-95f8-4706-a7ae-feb545ff5cd6"
      },
      "execution_count": 4,
      "outputs": [
        {
          "output_type": "execute_result",
          "data": {
            "text/plain": [
              "5"
            ]
          },
          "metadata": {},
          "execution_count": 4
        }
      ]
    },
    {
      "cell_type": "markdown",
      "source": [
        "## Multiplicação"
      ],
      "metadata": {
        "id": "uMthDJHNhXFH"
      }
    },
    {
      "cell_type": "code",
      "source": [
        "5 * 6"
      ],
      "metadata": {
        "colab": {
          "base_uri": "https://localhost:8080/"
        },
        "id": "O7g0pNxphcOy",
        "outputId": "2460738b-5667-4b4e-a714-5ceec5e8cada"
      },
      "execution_count": 5,
      "outputs": [
        {
          "output_type": "execute_result",
          "data": {
            "text/plain": [
              "30"
            ]
          },
          "metadata": {},
          "execution_count": 5
        }
      ]
    },
    {
      "cell_type": "markdown",
      "source": [
        "## Divisão"
      ],
      "metadata": {
        "id": "-A8kZA8chf47"
      }
    },
    {
      "cell_type": "code",
      "source": [
        "4/5"
      ],
      "metadata": {
        "colab": {
          "base_uri": "https://localhost:8080/"
        },
        "id": "AyCY4IDihfiH",
        "outputId": "76acd155-339b-4ecb-e216-b5c12dd6c67a"
      },
      "execution_count": 6,
      "outputs": [
        {
          "output_type": "execute_result",
          "data": {
            "text/plain": [
              "0.8"
            ]
          },
          "metadata": {},
          "execution_count": 6
        }
      ]
    },
    {
      "cell_type": "markdown",
      "source": [
        "### ![goku.png](data:image/png;base64,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)"
      ],
      "metadata": {
        "id": "RhotdR0hiGZ0"
      }
    },
    {
      "cell_type": "markdown",
      "source": [
        "## Igualdade"
      ],
      "metadata": {
        "id": "pY4cc2Z0iehv"
      }
    },
    {
      "cell_type": "code",
      "source": [
        "Argentina = 16\n",
        "Argentina==16"
      ],
      "metadata": {
        "colab": {
          "base_uri": "https://localhost:8080/"
        },
        "id": "VjZimYUDiiwU",
        "outputId": "86eb6114-0ff4-4672-ac56-e8b98bae5d20"
      },
      "execution_count": 10,
      "outputs": [
        {
          "output_type": "execute_result",
          "data": {
            "text/plain": [
              "True"
            ]
          },
          "metadata": {},
          "execution_count": 10
        }
      ]
    },
    {
      "cell_type": "markdown",
      "source": [
        "## Expoente"
      ],
      "metadata": {
        "id": "64-EMSq9jiDy"
      }
    },
    {
      "cell_type": "code",
      "source": [
        "4**2"
      ],
      "metadata": {
        "colab": {
          "base_uri": "https://localhost:8080/"
        },
        "id": "hf7lnxezjkgC",
        "outputId": "f953e76a-a9b8-4eca-8240-710ab7b70743"
      },
      "execution_count": 12,
      "outputs": [
        {
          "output_type": "execute_result",
          "data": {
            "text/plain": [
              "16"
            ]
          },
          "metadata": {},
          "execution_count": 12
        }
      ]
    },
    {
      "cell_type": "markdown",
      "source": [
        "## Maior, menor, maior ou igual e menor ou igual"
      ],
      "metadata": {
        "id": "dPOwfI7EkZAk"
      }
    },
    {
      "cell_type": "code",
      "source": [
        "10>11"
      ],
      "metadata": {
        "colab": {
          "base_uri": "https://localhost:8080/"
        },
        "id": "8j7VnFMQkrj9",
        "outputId": "45685ca4-9bf5-4a40-e1b0-813a295fb760"
      },
      "execution_count": 14,
      "outputs": [
        {
          "output_type": "execute_result",
          "data": {
            "text/plain": [
              "False"
            ]
          },
          "metadata": {},
          "execution_count": 14
        }
      ]
    },
    {
      "cell_type": "code",
      "source": [
        "11<12"
      ],
      "metadata": {
        "colab": {
          "base_uri": "https://localhost:8080/"
        },
        "id": "-zcu0Yr6leJM",
        "outputId": "ce8c1650-60b4-4039-842c-2bbcafe653f3"
      },
      "execution_count": 16,
      "outputs": [
        {
          "output_type": "execute_result",
          "data": {
            "text/plain": [
              "True"
            ]
          },
          "metadata": {},
          "execution_count": 16
        }
      ]
    },
    {
      "cell_type": "code",
      "source": [
        "5-6+8+15*(6/2)+4-9"
      ],
      "metadata": {
        "colab": {
          "base_uri": "https://localhost:8080/"
        },
        "id": "UmnzM09ZmcPO",
        "outputId": "6800f1c4-06fb-49f2-8921-1d6e7277603c"
      },
      "execution_count": 18,
      "outputs": [
        {
          "output_type": "execute_result",
          "data": {
            "text/plain": [
              "47.0"
            ]
          },
          "metadata": {},
          "execution_count": 18
        }
      ]
    },
    {
      "cell_type": "markdown",
      "source": [
        "## Variaveis"
      ],
      "metadata": {
        "id": "ZKR4oThmn0SD"
      }
    },
    {
      "cell_type": "code",
      "source": [
        "nome = 'X'\n",
        "sobrenome = 'D'\n",
        "\n",
        "print ('meu nome é' + ' ' + nome + sobrenome)"
      ],
      "metadata": {
        "colab": {
          "base_uri": "https://localhost:8080/"
        },
        "id": "ZzThUSkCmeC1",
        "outputId": "7f5f26e3-d823-4f91-ffb7-65990f8670b8"
      },
      "execution_count": 27,
      "outputs": [
        {
          "output_type": "stream",
          "name": "stdout",
          "text": [
            "meu nome é XD\n"
          ]
        }
      ]
    },
    {
      "cell_type": "code",
      "source": [
        "nome = str(input('Digite seu nome: '))\n",
        "sobrenome = str(input('Digute seu nome  '))\n",
        "\n",
        "print('Meu nome é ' + nome + ' '+ sobrenome)"
      ],
      "metadata": {
        "colab": {
          "base_uri": "https://localhost:8080/"
        },
        "id": "5T7VCP20tqWZ",
        "outputId": "1a31edca-da65-40da-8e71-7e3ec29998ab"
      },
      "execution_count": 28,
      "outputs": [
        {
          "output_type": "stream",
          "name": "stdout",
          "text": [
            "Digite seu nome: Sabio\n",
            "Digute seu nome  Chines\n",
            "Meu nome é Sabio Chines\n"
          ]
        }
      ]
    },
    {
      "cell_type": "code",
      "source": [
        "lado = 3  # Defina o valor que deseja\n",
        "print(f\"Comprimento do lado: {lado}\")\n",
        "\n",
        "area = 1  # Defina o valor que deseja\n",
        "print(f\"Comprimento do area: {area}\")\n"
      ],
      "metadata": {
        "colab": {
          "base_uri": "https://localhost:8080/"
        },
        "id": "YtbCMpIFwwVU",
        "outputId": "f31712fe-4b6e-4c8a-dc86-d775f3207de5"
      },
      "execution_count": 35,
      "outputs": [
        {
          "output_type": "stream",
          "name": "stdout",
          "text": [
            "Comprimento do lado: 3\n",
            "Comprimento do area: 1\n"
          ]
        }
      ]
    },
    {
      "cell_type": "code",
      "source": [
        "#Entrada\n",
        "lado = float(input('Digute o lado: '))\n",
        "\n",
        "#Processamento\n",
        "area = lado*lado\n",
        "\n",
        "#Saída\n",
        "print('a area no quadrado é igual a' , area)"
      ],
      "metadata": {
        "colab": {
          "base_uri": "https://localhost:8080/"
        },
        "id": "Y9j0dqfPwSeS",
        "outputId": "76b17ee7-4b6b-4638-846e-0693f08ae6b8"
      },
      "execution_count": 37,
      "outputs": [
        {
          "output_type": "stream",
          "name": "stdout",
          "text": [
            "Digute o lado: 5\n",
            "a area no quadrado é igual a 25.0\n"
          ]
        }
      ]
    },
    {
      "cell_type": "code",
      "source": [
        "# Calculadora simples em Python\n",
        "\n",
        "def somar(x, y):\n",
        "    return x + y\n",
        "\n",
        "def subtrair(x, y):\n",
        "    return x - y\n",
        "\n",
        "def multiplicar(x, y):\n",
        "    return x * y\n",
        "\n",
        "def dividir(x, y):\n",
        "    if y != 0:\n",
        "        return x / y\n",
        "    else:\n",
        "        return \"Erro! Divisão por zero.\"\n",
        "\n",
        "def calculadora():\n",
        "    print(\"Escolha a operação:\")\n",
        "    print(\"1. Somar\")\n",
        "    print(\"2. Subtrair\")\n",
        "    print(\"3. Multiplicar\")\n",
        "    print(\"4. Dividir\")\n",
        "\n",
        "    escolha = input(\"Digite o número da operação (1/2/3/4): \")\n",
        "\n",
        "    if escolha in ['1', '2', '3', '4']:\n",
        "        num1 = float(input(\"Digite o primeiro número: \"))\n",
        "        num2 = float(input(\"Digite o segundo número: \"))\n",
        "\n",
        "        if escolha == '1':\n",
        "            print(f\"{num1} + {num2} = {somar(num1, num2)}\")\n",
        "        elif escolha == '2':\n",
        "            print(f\"{num1} - {num2} = {subtrair(num1, num2)}\")\n",
        "        elif escolha == '3':\n",
        "            print(f\"{num1} * {num2} = {multiplicar(num1, num2)}\")\n",
        "        elif escolha == '4':\n",
        "            print(f\"{num1} / {num2} = {dividir(num1, num2)}\")\n",
        "    else:\n",
        "        print(\"Opção inválida!\")\n",
        "\n",
        "calculadora()\n"
      ],
      "metadata": {
        "colab": {
          "base_uri": "https://localhost:8080/"
        },
        "id": "-G0Eyrtrymvm",
        "outputId": "11ff0f6d-c1de-4a04-8cd4-326bdf2e3f70"
      },
      "execution_count": 40,
      "outputs": [
        {
          "output_type": "stream",
          "name": "stdout",
          "text": [
            "Escolha a operação:\n",
            "1. Somar\n",
            "2. Subtrair\n",
            "3. Multiplicar\n",
            "4. Dividir\n",
            "Digite o número da operação (1/2/3/4): 1\n",
            "Digite o primeiro número: 14\n",
            "Digite o segundo número: 15\n",
            "14.0 + 15.0 = 29.0\n"
          ]
        }
      ]
    },
    {
      "cell_type": "code",
      "source": [
        "import random\n",
        "\n",
        "def jogo_adivinhacao():\n",
        "    print(\"Bem-vindo ao jogo de Adivinhação de Número!\")\n",
        "    print(\"Eu pensei em um número entre 1 e 100. Você tem que tentar adivinhar qual é.\")\n",
        "\n",
        "    # Gerar o número aleatório entre 1 e 100\n",
        "    numero_secreto = random.randint(1, 100)\n",
        "    tentativas = 0\n",
        "    tentativas_maximas = 10\n",
        "\n",
        "    while tentativas < tentativas_maximas:\n",
        "        try:\n",
        "            palpite = int(input(f\"Tentativa {tentativas + 1}/{tentativas_maximas} - Qual é o seu palpite? \"))\n",
        "            tentativas += 1\n",
        "        except ValueError:\n",
        "            print(\"Por favor, insira um número válido.\")\n",
        "            continue\n",
        "\n",
        "        if palpite < numero_secreto:\n",
        "            print(\"O número secreto é maior!\")\n",
        "        elif palpite > numero_secreto:\n",
        "            print(\"O número secreto é menor!\")\n",
        "        else:\n",
        "            print(f\"Parabéns! Você acertou o número {numero_secreto} em {tentativas} tentativas!\")\n",
        "            break\n",
        "    else:\n",
        "        print(f\"Você não conseguiu adivinhar o número. O número secreto era {numero_secreto}.\")\n",
        "\n",
        "# Chama a função para rodar o jogo\n",
        "jogo_adivinhacao()\n",
        "[]"
      ],
      "metadata": {
        "colab": {
          "base_uri": "https://localhost:8080/"
        },
        "id": "Un9-TzmQzJ2h",
        "outputId": "b5231767-56cb-42ff-d384-f7dd2b87da68"
      },
      "execution_count": 41,
      "outputs": [
        {
          "output_type": "stream",
          "name": "stdout",
          "text": [
            "Bem-vindo ao jogo de Adivinhação de Número!\n",
            "Eu pensei em um número entre 1 e 100. Você tem que tentar adivinhar qual é.\n",
            "Tentativa 1/10 - Qual é o seu palpite? 10\n",
            "O número secreto é maior!\n",
            "Tentativa 2/10 - Qual é o seu palpite? 70\n",
            "O número secreto é maior!\n",
            "Tentativa 3/10 - Qual é o seu palpite? 90\n",
            "O número secreto é menor!\n",
            "Tentativa 4/10 - Qual é o seu palpite? 80\n",
            "O número secreto é menor!\n",
            "Tentativa 5/10 - Qual é o seu palpite? 73\n",
            "O número secreto é maior!\n",
            "Tentativa 6/10 - Qual é o seu palpite? 75\n",
            "O número secreto é maior!\n",
            "Tentativa 7/10 - Qual é o seu palpite? 78\n",
            "Parabéns! Você acertou o número 78 em 7 tentativas!\n"
          ]
        }
      ]
    },
    {
      "cell_type": "markdown",
      "source": [
        "![Rodolfo.jfif](data:image/jpeg;base64,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)"
      ],
      "metadata": {
        "id": "VzwS2uzG0FRB"
      }
    },
    {
      "cell_type": "code",
      "source": [],
      "metadata": {
        "id": "z9df8vB30E6x"
      },
      "execution_count": null,
      "outputs": []
    }
  ]
}