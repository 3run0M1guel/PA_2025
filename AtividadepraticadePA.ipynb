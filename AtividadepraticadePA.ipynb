{
  "cells": [
    {
      "cell_type": "markdown",
      "metadata": {
        "id": "view-in-github",
        "colab_type": "text"
      },
      "source": [
        "<a href=\"https://colab.research.google.com/github/3run0M1guel/PA_2025/blob/main/AtividadepraticadePA.ipynb\" target=\"_parent\"><img src=\"https://colab.research.google.com/assets/colab-badge.svg\" alt=\"Open In Colab\"/></a>"
      ]
    },
    {
      "cell_type": "markdown",
      "metadata": {
        "id": "oS5pRi0eBPau"
      },
      "source": [
        "# Questão 1"
      ]
    },
    {
      "cell_type": "code",
      "execution_count": null,
      "metadata": {
        "colab": {
          "base_uri": "https://localhost:8080/"
        },
        "id": "-Suw3jLa0lWW",
        "outputId": "f732cfda-e767-4e56-94a8-3f07acd224ed"
      },
      "outputs": [
        {
          "name": "stdout",
          "output_type": "stream",
          "text": [
            "digite número que seja impar ou par5\n",
            "este número é um par False\n"
          ]
        }
      ],
      "source": [
        "#Entrada\n",
        "X = int(input(\"digite número que seja impar ou par\"))\n",
        "\n",
        "#Processamento\n",
        "X = (X%2==0)\n",
        "X = (X%2==1)\n",
        "\n",
        "#Saída\n",
        "print(\"este número é um par\", X)\n"
      ]
    },
    {
      "cell_type": "markdown",
      "metadata": {
        "id": "jcxhSsCgBWm8"
      },
      "source": [
        "# Questão 2"
      ]
    },
    {
      "cell_type": "code",
      "execution_count": null,
      "metadata": {
        "colab": {
          "background_save": true
        },
        "id": "RhQDATrK2vQi",
        "outputId": "fc8fd693-dc35-46b6-e0eb-ded1c8c59943"
      },
      "outputs": [
        {
          "name": "stdout",
          "output_type": "stream",
          "text": [
            "é um triagulo? True\n",
            "é um equilatero? True\n",
            "é um escaleno? False\n",
            "é um isosceles? True\n"
          ]
        }
      ],
      "source": [
        "#Entrada\n",
        "l1 = int(input(\"digite o primeiro lado\"))\n",
        "l2 = int(input(\"digite o segundo lado\"))\n",
        "l3 = int(input(\"digite o terceiro lado\"))\n",
        "\n",
        "#Processamento\n",
        "i = (l1+l2>l3) and (l2+l3>l1) and (l1+l3>l2)\n",
        "ii = (l1==l2==l3)\n",
        "iii = (l2!=l1!=l3)\n",
        "iv = (l2+l3>l1) or (l1+l2>l3) or (l2+l3>l1)\n",
        "#Saída\n",
        "print(f\"é um triagulo?\", i)\n",
        "print(f\"é um equilatero?\", ii)\n",
        "print(f\"é um escaleno?\", iii)\n",
        "print(f\"é um isosceles?\", iv)"
      ]
    },
    {
      "cell_type": "markdown",
      "metadata": {
        "id": "8U4EWKQ4Hy-x"
      },
      "source": [
        "# Questão 3"
      ]
    },
    {
      "cell_type": "code",
      "execution_count": null,
      "metadata": {
        "id": "KrGyy9GdH14m",
        "outputId": "2287acf0-fe31-40d8-aa87-61c38500d0ab",
        "colab": {
          "base_uri": "https://localhost:8080/"
        }
      },
      "outputs": [
        {
          "output_type": "stream",
          "name": "stdout",
          "text": [
            "digite o peso40\n",
            "digite o altura1.60\n",
            "abaixo do peso True\n",
            "peso normal False\n",
            "acima do peso False\n",
            "obesidade grau 1 False\n",
            "obesidade grau 2 False\n",
            "obesidade grau 3 False\n"
          ]
        }
      ],
      "source": [
        "#Entrada\n",
        "peso = float(input(\"digite o peso\"))\n",
        "altura = float(input(\"digite o altura\"))\n",
        "\n",
        "#Processamento\n",
        "IMC = int(peso/altura**2)\n",
        "(IMC<18.5)\n",
        "(IMC>=18.5) and (IMC<=24.9)\n",
        "(IMC>=25) and (IMC<=29.9)\n",
        "(IMC>=30) and (IMC<=34.9)\n",
        "(IMC>=35) and (IMC<=39.9)\n",
        "(IMC>=40)\n",
        "\n",
        "#Saída\n",
        "print(f\"abaixo do peso\", (IMC<18.5))\n",
        "print(f\"peso normal\", (IMC>=18.5) and (IMC<24.9))\n",
        "print(f\"acima do peso\", (IMC>25) and (IMC<29.9))\n",
        "print(f\"obesidade grau 1\", (IMC>=30) and (IMC<=34.9))\n",
        "print(f\"obesidade grau 2\", (IMC>=35) and (IMC<=39.9))\n",
        "print(f\"obesidade grau 3\", (IMC>=40))"
      ]
    },
    {
      "cell_type": "markdown",
      "source": [
        "# Questão 4"
      ],
      "metadata": {
        "id": "ncTrmBLqPvkd"
      }
    },
    {
      "cell_type": "code",
      "source": [
        "#Entrada\n",
        "idade = float(input(\"qual idade dele(a)?\"))\n",
        "altura = float(input(\"qual altura dele(a)?\"))\n",
        "\n",
        "#Processamento\n",
        "print(f'se pode participa do volei? {idade>=18 and altura>=1.75}')"
      ],
      "metadata": {
        "id": "bzUtIOsCP0FU",
        "colab": {
          "base_uri": "https://localhost:8080/"
        },
        "outputId": "ea544ab9-2592-4719-b93b-6341185fd29a"
      },
      "execution_count": 3,
      "outputs": [
        {
          "output_type": "stream",
          "name": "stdout",
          "text": [
            "qual idade dele(a)?18\n",
            "qual altura dele(a)?1.75\n",
            "se pode participa do volei? True\n"
          ]
        }
      ]
    }
  ],
  "metadata": {
    "colab": {
      "provenance": [],
      "authorship_tag": "ABX9TyOXYOJkDnhMHgKJucWTej6J",
      "include_colab_link": true
    },
    "kernelspec": {
      "display_name": "Python 3",
      "name": "python3"
    },
    "language_info": {
      "name": "python"
    }
  },
  "nbformat": 4,
  "nbformat_minor": 0
}